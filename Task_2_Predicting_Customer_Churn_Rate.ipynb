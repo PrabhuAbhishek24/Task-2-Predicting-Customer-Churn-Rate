{
  "nbformat": 4,
  "nbformat_minor": 0,
  "metadata": {
    "colab": {
      "provenance": []
    },
    "kernelspec": {
      "name": "python3",
      "display_name": "Python 3"
    },
    "language_info": {
      "name": "python"
    }
  },
  "cells": [
    {
      "cell_type": "code",
      "execution_count": 2,
      "metadata": {
        "id": "nIdem1Fl_LmT"
      },
      "outputs": [],
      "source": [
        "import pandas as pd\n",
        "import numpy as np\n",
        "import matplotlib.pyplot as plt\n",
        "import seaborn as sns\n",
        "from sklearn.model_selection import train_test_split, GridSearchCV, RandomizedSearchCV\n",
        "from sklearn.preprocessing import StandardScaler\n",
        "from sklearn.ensemble import RandomForestClassifier\n",
        "from sklearn.metrics import classification_report, confusion_matrix, accuracy_score\n"
      ]
    },
    {
      "cell_type": "code",
      "source": [
        "!pip install shap"
      ],
      "metadata": {
        "colab": {
          "base_uri": "https://localhost:8080/"
        },
        "id": "nZYQFsDZ_a0G",
        "outputId": "be2c595c-9cde-4f7b-980b-6a1f1a56924c"
      },
      "execution_count": 3,
      "outputs": [
        {
          "output_type": "stream",
          "name": "stdout",
          "text": [
            "Collecting shap\n",
            "  Downloading shap-0.46.0-cp310-cp310-manylinux_2_12_x86_64.manylinux2010_x86_64.manylinux_2_17_x86_64.manylinux2014_x86_64.whl.metadata (24 kB)\n",
            "Requirement already satisfied: numpy in /usr/local/lib/python3.10/dist-packages (from shap) (1.26.4)\n",
            "Requirement already satisfied: scipy in /usr/local/lib/python3.10/dist-packages (from shap) (1.13.1)\n",
            "Requirement already satisfied: scikit-learn in /usr/local/lib/python3.10/dist-packages (from shap) (1.3.2)\n",
            "Requirement already satisfied: pandas in /usr/local/lib/python3.10/dist-packages (from shap) (2.1.4)\n",
            "Requirement already satisfied: tqdm>=4.27.0 in /usr/local/lib/python3.10/dist-packages (from shap) (4.66.5)\n",
            "Requirement already satisfied: packaging>20.9 in /usr/local/lib/python3.10/dist-packages (from shap) (24.1)\n",
            "Collecting slicer==0.0.8 (from shap)\n",
            "  Downloading slicer-0.0.8-py3-none-any.whl.metadata (4.0 kB)\n",
            "Requirement already satisfied: numba in /usr/local/lib/python3.10/dist-packages (from shap) (0.60.0)\n",
            "Requirement already satisfied: cloudpickle in /usr/local/lib/python3.10/dist-packages (from shap) (2.2.1)\n",
            "Requirement already satisfied: llvmlite<0.44,>=0.43.0dev0 in /usr/local/lib/python3.10/dist-packages (from numba->shap) (0.43.0)\n",
            "Requirement already satisfied: python-dateutil>=2.8.2 in /usr/local/lib/python3.10/dist-packages (from pandas->shap) (2.8.2)\n",
            "Requirement already satisfied: pytz>=2020.1 in /usr/local/lib/python3.10/dist-packages (from pandas->shap) (2024.1)\n",
            "Requirement already satisfied: tzdata>=2022.1 in /usr/local/lib/python3.10/dist-packages (from pandas->shap) (2024.1)\n",
            "Requirement already satisfied: joblib>=1.1.1 in /usr/local/lib/python3.10/dist-packages (from scikit-learn->shap) (1.4.2)\n",
            "Requirement already satisfied: threadpoolctl>=2.0.0 in /usr/local/lib/python3.10/dist-packages (from scikit-learn->shap) (3.5.0)\n",
            "Requirement already satisfied: six>=1.5 in /usr/local/lib/python3.10/dist-packages (from python-dateutil>=2.8.2->pandas->shap) (1.16.0)\n",
            "Downloading shap-0.46.0-cp310-cp310-manylinux_2_12_x86_64.manylinux2010_x86_64.manylinux_2_17_x86_64.manylinux2014_x86_64.whl (540 kB)\n",
            "\u001b[2K   \u001b[90m━━━━━━━━━━━━━━━━━━━━━━━━━━━━━━━━━━━━━━━━\u001b[0m \u001b[32m540.1/540.1 kB\u001b[0m \u001b[31m3.7 MB/s\u001b[0m eta \u001b[36m0:00:00\u001b[0m\n",
            "\u001b[?25hDownloading slicer-0.0.8-py3-none-any.whl (15 kB)\n",
            "Installing collected packages: slicer, shap\n",
            "Successfully installed shap-0.46.0 slicer-0.0.8\n"
          ]
        }
      ]
    },
    {
      "cell_type": "code",
      "source": [
        "import shap"
      ],
      "metadata": {
        "id": "TQH7smNS_hGk"
      },
      "execution_count": 4,
      "outputs": []
    },
    {
      "cell_type": "code",
      "source": [
        "df = pd.read_csv(\"/content/Churn_Modelling.csv\")\n",
        "print(df.head())\n",
        "print(df.info())\n",
        "print(df.describe())"
      ],
      "metadata": {
        "colab": {
          "base_uri": "https://localhost:8080/"
        },
        "id": "yt78LAA__j2W",
        "outputId": "4a418375-1886-4fe4-d64f-17e6f5ea2a26"
      },
      "execution_count": 6,
      "outputs": [
        {
          "output_type": "stream",
          "name": "stdout",
          "text": [
            "   RowNumber  CustomerId   Surname  CreditScore Geography  Gender  Age  \\\n",
            "0          1    15634602  Hargrave          619    France  Female   42   \n",
            "1          2    15647311      Hill          608     Spain  Female   41   \n",
            "2          3    15619304      Onio          502    France  Female   42   \n",
            "3          4    15701354      Boni          699    France  Female   39   \n",
            "4          5    15737888  Mitchell          850     Spain  Female   43   \n",
            "\n",
            "   Tenure    Balance  NumOfProducts  HasCrCard  IsActiveMember  \\\n",
            "0       2       0.00              1          1               1   \n",
            "1       1   83807.86              1          0               1   \n",
            "2       8  159660.80              3          1               0   \n",
            "3       1       0.00              2          0               0   \n",
            "4       2  125510.82              1          1               1   \n",
            "\n",
            "   EstimatedSalary  Exited  \n",
            "0        101348.88       1  \n",
            "1        112542.58       0  \n",
            "2        113931.57       1  \n",
            "3         93826.63       0  \n",
            "4         79084.10       0  \n",
            "<class 'pandas.core.frame.DataFrame'>\n",
            "RangeIndex: 10000 entries, 0 to 9999\n",
            "Data columns (total 14 columns):\n",
            " #   Column           Non-Null Count  Dtype  \n",
            "---  ------           --------------  -----  \n",
            " 0   RowNumber        10000 non-null  int64  \n",
            " 1   CustomerId       10000 non-null  int64  \n",
            " 2   Surname          10000 non-null  object \n",
            " 3   CreditScore      10000 non-null  int64  \n",
            " 4   Geography        10000 non-null  object \n",
            " 5   Gender           10000 non-null  object \n",
            " 6   Age              10000 non-null  int64  \n",
            " 7   Tenure           10000 non-null  int64  \n",
            " 8   Balance          10000 non-null  float64\n",
            " 9   NumOfProducts    10000 non-null  int64  \n",
            " 10  HasCrCard        10000 non-null  int64  \n",
            " 11  IsActiveMember   10000 non-null  int64  \n",
            " 12  EstimatedSalary  10000 non-null  float64\n",
            " 13  Exited           10000 non-null  int64  \n",
            "dtypes: float64(2), int64(9), object(3)\n",
            "memory usage: 1.1+ MB\n",
            "None\n",
            "         RowNumber    CustomerId   CreditScore           Age        Tenure  \\\n",
            "count  10000.00000  1.000000e+04  10000.000000  10000.000000  10000.000000   \n",
            "mean    5000.50000  1.569094e+07    650.528800     38.921800      5.012800   \n",
            "std     2886.89568  7.193619e+04     96.653299     10.487806      2.892174   \n",
            "min        1.00000  1.556570e+07    350.000000     18.000000      0.000000   \n",
            "25%     2500.75000  1.562853e+07    584.000000     32.000000      3.000000   \n",
            "50%     5000.50000  1.569074e+07    652.000000     37.000000      5.000000   \n",
            "75%     7500.25000  1.575323e+07    718.000000     44.000000      7.000000   \n",
            "max    10000.00000  1.581569e+07    850.000000     92.000000     10.000000   \n",
            "\n",
            "             Balance  NumOfProducts    HasCrCard  IsActiveMember  \\\n",
            "count   10000.000000   10000.000000  10000.00000    10000.000000   \n",
            "mean    76485.889288       1.530200      0.70550        0.515100   \n",
            "std     62397.405202       0.581654      0.45584        0.499797   \n",
            "min         0.000000       1.000000      0.00000        0.000000   \n",
            "25%         0.000000       1.000000      0.00000        0.000000   \n",
            "50%     97198.540000       1.000000      1.00000        1.000000   \n",
            "75%    127644.240000       2.000000      1.00000        1.000000   \n",
            "max    250898.090000       4.000000      1.00000        1.000000   \n",
            "\n",
            "       EstimatedSalary        Exited  \n",
            "count     10000.000000  10000.000000  \n",
            "mean     100090.239881      0.203700  \n",
            "std       57510.492818      0.402769  \n",
            "min          11.580000      0.000000  \n",
            "25%       51002.110000      0.000000  \n",
            "50%      100193.915000      0.000000  \n",
            "75%      149388.247500      0.000000  \n",
            "max      199992.480000      1.000000  \n"
          ]
        }
      ]
    },
    {
      "cell_type": "code",
      "source": [
        "df = df.drop(['RowNumber', 'CustomerId', 'Surname'], axis=1)\n",
        "df = pd.get_dummies(df, drop_first=True)\n",
        "X = df.drop('Exited', axis=1)\n",
        "y = df['Exited']\n",
        "X_train, X_test, y_train, y_test = train_test_split(X, y, test_size=0.3, random_state=42)\n",
        "scaler = StandardScaler()\n",
        "X_train = scaler.fit_transform(X_train)\n",
        "X_test = scaler.transform(X_test)\n"
      ],
      "metadata": {
        "id": "CDkzHy9M_9AV"
      },
      "execution_count": 7,
      "outputs": []
    },
    {
      "cell_type": "code",
      "source": [
        "# Train a Random Forest Classifier\n",
        "rf_model = RandomForestClassifier(random_state=42)\n",
        "rf_model.fit(X_train, y_train)\n",
        "y_pred = rf_model.predict(X_test)\n",
        "print(\"Confusion Matrix:\")\n",
        "print(confusion_matrix(y_test, y_pred))\n",
        "\n",
        "print(\"\\nClassification Report:\")\n",
        "print(classification_report(y_test, y_pred))\n",
        "\n",
        "print(\"\\nAccuracy Score:\")\n",
        "print(accuracy_score(y_test, y_pred))\n"
      ],
      "metadata": {
        "colab": {
          "base_uri": "https://localhost:8080/"
        },
        "id": "FnawkW-DAKlQ",
        "outputId": "62f30b8e-c836-474b-cf8a-1abf3f25bf2e"
      },
      "execution_count": 8,
      "outputs": [
        {
          "output_type": "stream",
          "name": "stdout",
          "text": [
            "Confusion Matrix:\n",
            "[[2328   88]\n",
            " [ 310  274]]\n",
            "\n",
            "Classification Report:\n",
            "              precision    recall  f1-score   support\n",
            "\n",
            "           0       0.88      0.96      0.92      2416\n",
            "           1       0.76      0.47      0.58       584\n",
            "\n",
            "    accuracy                           0.87      3000\n",
            "   macro avg       0.82      0.72      0.75      3000\n",
            "weighted avg       0.86      0.87      0.85      3000\n",
            "\n",
            "\n",
            "Accuracy Score:\n",
            "0.8673333333333333\n"
          ]
        }
      ]
    },
    {
      "cell_type": "code",
      "source": [
        "# Define the parameter grid for RandomSearch\n",
        "param_grid = {\n",
        "    'n_estimators': [50, 100, 200],\n",
        "    'max_features': ['auto', 'sqrt'],\n",
        "    'max_depth': [10, 20, 30, None],\n",
        "    'min_samples_split': [2, 5, 10],\n",
        "    'min_samples_leaf': [1, 2, 4],\n",
        "    'bootstrap': [True, False]\n",
        "}\n",
        "\n",
        "# RandomizedSearchCV\n",
        "rf_random = RandomizedSearchCV(estimator=rf_model, param_distributions=param_grid, n_iter=100, cv=3, verbose=2, random_state=42, n_jobs=-1)\n",
        "rf_random.fit(X_train, y_train)\n",
        "\n",
        "print(f\"Best parameters found by RandomizedSearch: {rf_random.best_params_}\")\n",
        "best_rf_model = rf_random.best_estimator_\n",
        "\n",
        "y_pred_best = best_rf_model.predict(X_test)\n",
        "\n",
        "print(\"Confusion Matrix (Best Model):\")\n",
        "print(confusion_matrix(y_test, y_pred_best))\n",
        "\n",
        "print(\"\\nClassification Report (Best Model):\")\n",
        "print(classification_report(y_test, y_pred_best))\n",
        "\n",
        "print(\"\\nAccuracy Score (Best Model):\")\n",
        "print(accuracy_score(y_test, y_pred_best))\n"
      ],
      "metadata": {
        "colab": {
          "base_uri": "https://localhost:8080/"
        },
        "id": "zwgmhSxaAXxY",
        "outputId": "60217e43-5ccd-4379-b38d-84f31f45c29c"
      },
      "execution_count": 9,
      "outputs": [
        {
          "output_type": "stream",
          "name": "stdout",
          "text": [
            "Fitting 3 folds for each of 100 candidates, totalling 300 fits\n"
          ]
        },
        {
          "output_type": "stream",
          "name": "stderr",
          "text": [
            "/usr/local/lib/python3.10/dist-packages/sklearn/model_selection/_validation.py:425: FitFailedWarning: \n",
            "171 fits failed out of a total of 300.\n",
            "The score on these train-test partitions for these parameters will be set to nan.\n",
            "If these failures are not expected, you can try to debug them by setting error_score='raise'.\n",
            "\n",
            "Below are more details about the failures:\n",
            "--------------------------------------------------------------------------------\n",
            "91 fits failed with the following error:\n",
            "Traceback (most recent call last):\n",
            "  File \"/usr/local/lib/python3.10/dist-packages/sklearn/model_selection/_validation.py\", line 729, in _fit_and_score\n",
            "    estimator.fit(X_train, y_train, **fit_params)\n",
            "  File \"/usr/local/lib/python3.10/dist-packages/sklearn/base.py\", line 1145, in wrapper\n",
            "    estimator._validate_params()\n",
            "  File \"/usr/local/lib/python3.10/dist-packages/sklearn/base.py\", line 638, in _validate_params\n",
            "    validate_parameter_constraints(\n",
            "  File \"/usr/local/lib/python3.10/dist-packages/sklearn/utils/_param_validation.py\", line 96, in validate_parameter_constraints\n",
            "    raise InvalidParameterError(\n",
            "sklearn.utils._param_validation.InvalidParameterError: The 'max_features' parameter of RandomForestClassifier must be an int in the range [1, inf), a float in the range (0.0, 1.0], a str among {'sqrt', 'log2'} or None. Got 'auto' instead.\n",
            "\n",
            "--------------------------------------------------------------------------------\n",
            "80 fits failed with the following error:\n",
            "Traceback (most recent call last):\n",
            "  File \"/usr/local/lib/python3.10/dist-packages/sklearn/model_selection/_validation.py\", line 729, in _fit_and_score\n",
            "    estimator.fit(X_train, y_train, **fit_params)\n",
            "  File \"/usr/local/lib/python3.10/dist-packages/sklearn/base.py\", line 1145, in wrapper\n",
            "    estimator._validate_params()\n",
            "  File \"/usr/local/lib/python3.10/dist-packages/sklearn/base.py\", line 638, in _validate_params\n",
            "    validate_parameter_constraints(\n",
            "  File \"/usr/local/lib/python3.10/dist-packages/sklearn/utils/_param_validation.py\", line 96, in validate_parameter_constraints\n",
            "    raise InvalidParameterError(\n",
            "sklearn.utils._param_validation.InvalidParameterError: The 'max_features' parameter of RandomForestClassifier must be an int in the range [1, inf), a float in the range (0.0, 1.0], a str among {'log2', 'sqrt'} or None. Got 'auto' instead.\n",
            "\n",
            "  warnings.warn(some_fits_failed_message, FitFailedWarning)\n",
            "/usr/local/lib/python3.10/dist-packages/sklearn/model_selection/_search.py:979: UserWarning: One or more of the test scores are non-finite: [0.86199975        nan        nan 0.86057195        nan        nan\n",
            " 0.85842867 0.86314308 0.86157155 0.86342859 0.86485724        nan\n",
            " 0.86357134        nan 0.85900018        nan        nan        nan\n",
            "        nan        nan        nan        nan 0.86100016        nan\n",
            "        nan        nan 0.86314308        nan 0.86400004 0.86057183\n",
            "        nan        nan 0.86028559 0.86199993 0.86199975        nan\n",
            " 0.86342853 0.86157142 0.86285708 0.86342853 0.85614287 0.85585712\n",
            "        nan        nan 0.86214299        nan 0.85700014        nan\n",
            " 0.86314308        nan        nan        nan 0.8574284         nan\n",
            "        nan        nan        nan        nan        nan 0.85985671\n",
            " 0.8565715         nan        nan 0.8612861  0.86228581        nan\n",
            "        nan        nan 0.86300008 0.86085716        nan 0.86242899\n",
            " 0.86271463        nan 0.86100016        nan        nan 0.86157197\n",
            "        nan        nan 0.86399997        nan        nan        nan\n",
            "        nan        nan        nan        nan        nan 0.86071477\n",
            " 0.86242857        nan        nan        nan 0.85771434        nan\n",
            " 0.86485724 0.86328565        nan 0.86171442]\n",
            "  warnings.warn(\n"
          ]
        },
        {
          "output_type": "stream",
          "name": "stdout",
          "text": [
            "Best parameters found by RandomizedSearch: {'n_estimators': 50, 'min_samples_split': 2, 'min_samples_leaf': 4, 'max_features': 'sqrt', 'max_depth': 30, 'bootstrap': True}\n",
            "Confusion Matrix (Best Model):\n",
            "[[2333   83]\n",
            " [ 316  268]]\n",
            "\n",
            "Classification Report (Best Model):\n",
            "              precision    recall  f1-score   support\n",
            "\n",
            "           0       0.88      0.97      0.92      2416\n",
            "           1       0.76      0.46      0.57       584\n",
            "\n",
            "    accuracy                           0.87      3000\n",
            "   macro avg       0.82      0.71      0.75      3000\n",
            "weighted avg       0.86      0.87      0.85      3000\n",
            "\n",
            "\n",
            "Accuracy Score (Best Model):\n",
            "0.867\n"
          ]
        }
      ]
    },
    {
      "cell_type": "code",
      "source": [
        "# Initialize SHAP explainer\n",
        "explainer = shap.TreeExplainer(best_rf_model)\n",
        "\n",
        "# Get SHAP values\n",
        "shap_values = explainer.shap_values(X_test)\n",
        "\n",
        "# If it's a binary classification, SHAP may return a list of arrays\n",
        "# Select shap values for class 1 (index 1) for binary classification\n",
        "if isinstance(shap_values, list):\n",
        "    shap_values = shap_values[1]\n",
        "\n",
        "# Check the shape of SHAP values and X_test\n",
        "print(f\"Shape of SHAP values: {shap_values.shape}\")\n",
        "print(f\"Shape of X_test: {X_test.shape}\")\n",
        "\n",
        "# Ensure the shapes match\n",
        "assert shap_values.shape[0] == X_test.shape[0], \"Mismatch in the number of samples\"\n",
        "assert shap_values.shape[1] == X_test.shape[1], \"Mismatch in the number of features\"\n",
        "\n",
        "# Summary plot for the selected class\n",
        "shap.summary_plot(shap_values, X_test, feature_names=X.columns)\n",
        "\n"
      ],
      "metadata": {
        "colab": {
          "base_uri": "https://localhost:8080/",
          "height": 732
        },
        "id": "EpY-T63HBNq7",
        "outputId": "9721b6de-f013-4309-8a26-0d2f6a710d83"
      },
      "execution_count": 14,
      "outputs": [
        {
          "output_type": "stream",
          "name": "stdout",
          "text": [
            "Shape of SHAP values: (3000, 11, 2)\n",
            "Shape of X_test: (3000, 11)\n"
          ]
        },
        {
          "output_type": "display_data",
          "data": {
            "text/plain": [
              "<Figure size 1150x660 with 2 Axes>"
            ],
            "image/png": "[encoded data removed]"
          },
          "metadata": {}
        }
      ]
    },
    {
      "cell_type": "code",
      "source": [
        "# Save the model as a pickle file\n",
        "import pickle\n",
        "model_filename = 'best_rf_model.pkl'\n",
        "\n",
        "# Open a file in write-binary mode and save the model\n",
        "with open(model_filename, 'wb') as file:\n",
        "    pickle.dump(best_rf_model, file)\n"
      ],
      "metadata": {
        "id": "hNkgcE1CHQBv"
      },
      "execution_count": 16,
      "outputs": []
    }
  ]
}